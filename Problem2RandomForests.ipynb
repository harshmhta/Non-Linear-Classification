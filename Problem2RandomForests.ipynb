{
 "cells": [
  {
   "cell_type": "code",
   "execution_count": 1,
   "id": "e91e9732",
   "metadata": {},
   "outputs": [],
   "source": [
    "from sklearn.metrics import accuracy_score\n",
    "from sklearn.model_selection import cross_val_score\n",
    "from sklearn.model_selection import GridSearchCV\n",
    "from sklearn.datasets import load_svmlight_file\n",
    "from sklearn.ensemble import RandomForestClassifier\n",
    "import pandas as pd\n",
    "import numpy as np"
   ]
  },
  {
   "cell_type": "code",
   "execution_count": 2,
   "id": "7a947cbb-04cb-4ba3-85c8-5cccdad7229d",
   "metadata": {},
   "outputs": [],
   "source": [
    "# load data in LibSVM sparse data format\n",
    "X_train, y_train = load_svmlight_file(\"a9a.txt\")\n",
    "X_test, y_test = load_svmlight_file(\"a9a.t\")"
   ]
  },
  {
   "cell_type": "code",
   "execution_count": 3,
   "id": "d2fe0b1c-9564-4016-99b5-d90d51e311bb",
   "metadata": {},
   "outputs": [
    {
     "data": {
      "text/html": [
       "<style>#sk-container-id-1 {color: black;background-color: white;}#sk-container-id-1 pre{padding: 0;}#sk-container-id-1 div.sk-toggleable {background-color: white;}#sk-container-id-1 label.sk-toggleable__label {cursor: pointer;display: block;width: 100%;margin-bottom: 0;padding: 0.3em;box-sizing: border-box;text-align: center;}#sk-container-id-1 label.sk-toggleable__label-arrow:before {content: \"▸\";float: left;margin-right: 0.25em;color: #696969;}#sk-container-id-1 label.sk-toggleable__label-arrow:hover:before {color: black;}#sk-container-id-1 div.sk-estimator:hover label.sk-toggleable__label-arrow:before {color: black;}#sk-container-id-1 div.sk-toggleable__content {max-height: 0;max-width: 0;overflow: hidden;text-align: left;background-color: #f0f8ff;}#sk-container-id-1 div.sk-toggleable__content pre {margin: 0.2em;color: black;border-radius: 0.25em;background-color: #f0f8ff;}#sk-container-id-1 input.sk-toggleable__control:checked~div.sk-toggleable__content {max-height: 200px;max-width: 100%;overflow: auto;}#sk-container-id-1 input.sk-toggleable__control:checked~label.sk-toggleable__label-arrow:before {content: \"▾\";}#sk-container-id-1 div.sk-estimator input.sk-toggleable__control:checked~label.sk-toggleable__label {background-color: #d4ebff;}#sk-container-id-1 div.sk-label input.sk-toggleable__control:checked~label.sk-toggleable__label {background-color: #d4ebff;}#sk-container-id-1 input.sk-hidden--visually {border: 0;clip: rect(1px 1px 1px 1px);clip: rect(1px, 1px, 1px, 1px);height: 1px;margin: -1px;overflow: hidden;padding: 0;position: absolute;width: 1px;}#sk-container-id-1 div.sk-estimator {font-family: monospace;background-color: #f0f8ff;border: 1px dotted black;border-radius: 0.25em;box-sizing: border-box;margin-bottom: 0.5em;}#sk-container-id-1 div.sk-estimator:hover {background-color: #d4ebff;}#sk-container-id-1 div.sk-parallel-item::after {content: \"\";width: 100%;border-bottom: 1px solid gray;flex-grow: 1;}#sk-container-id-1 div.sk-label:hover label.sk-toggleable__label {background-color: #d4ebff;}#sk-container-id-1 div.sk-serial::before {content: \"\";position: absolute;border-left: 1px solid gray;box-sizing: border-box;top: 0;bottom: 0;left: 50%;z-index: 0;}#sk-container-id-1 div.sk-serial {display: flex;flex-direction: column;align-items: center;background-color: white;padding-right: 0.2em;padding-left: 0.2em;position: relative;}#sk-container-id-1 div.sk-item {position: relative;z-index: 1;}#sk-container-id-1 div.sk-parallel {display: flex;align-items: stretch;justify-content: center;background-color: white;position: relative;}#sk-container-id-1 div.sk-item::before, #sk-container-id-1 div.sk-parallel-item::before {content: \"\";position: absolute;border-left: 1px solid gray;box-sizing: border-box;top: 0;bottom: 0;left: 50%;z-index: -1;}#sk-container-id-1 div.sk-parallel-item {display: flex;flex-direction: column;z-index: 1;position: relative;background-color: white;}#sk-container-id-1 div.sk-parallel-item:first-child::after {align-self: flex-end;width: 50%;}#sk-container-id-1 div.sk-parallel-item:last-child::after {align-self: flex-start;width: 50%;}#sk-container-id-1 div.sk-parallel-item:only-child::after {width: 0;}#sk-container-id-1 div.sk-dashed-wrapped {border: 1px dashed gray;margin: 0 0.4em 0.5em 0.4em;box-sizing: border-box;padding-bottom: 0.4em;background-color: white;}#sk-container-id-1 div.sk-label label {font-family: monospace;font-weight: bold;display: inline-block;line-height: 1.2em;}#sk-container-id-1 div.sk-label-container {text-align: center;}#sk-container-id-1 div.sk-container {/* jupyter's `normalize.less` sets `[hidden] { display: none; }` but bootstrap.min.css set `[hidden] { display: none !important; }` so we also need the `!important` here to be able to override the default hidden behavior on the sphinx rendered scikit-learn.org. See: https://github.com/scikit-learn/scikit-learn/issues/21755 */display: inline-block !important;position: relative;}#sk-container-id-1 div.sk-text-repr-fallback {display: none;}</style><div id=\"sk-container-id-1\" class=\"sk-top-container\"><div class=\"sk-text-repr-fallback\"><pre>RandomForestClassifier()</pre><b>In a Jupyter environment, please rerun this cell to show the HTML representation or trust the notebook. <br />On GitHub, the HTML representation is unable to render, please try loading this page with nbviewer.org.</b></div><div class=\"sk-container\" hidden><div class=\"sk-item\"><div class=\"sk-estimator sk-toggleable\"><input class=\"sk-toggleable__control sk-hidden--visually\" id=\"sk-estimator-id-1\" type=\"checkbox\" checked><label for=\"sk-estimator-id-1\" class=\"sk-toggleable__label sk-toggleable__label-arrow\">RandomForestClassifier</label><div class=\"sk-toggleable__content\"><pre>RandomForestClassifier()</pre></div></div></div></div></div>"
      ],
      "text/plain": [
       "RandomForestClassifier()"
      ]
     },
     "execution_count": 3,
     "metadata": {},
     "output_type": "execute_result"
    }
   ],
   "source": [
    "#create Random Forest model with default parameters (to use it in GridSearchCV)\n",
    "model = RandomForestClassifier(max_features='sqrt')\n",
    "model.fit(X_train, y_train)\n",
    "#print(model.get_params())"
   ]
  },
  {
   "cell_type": "code",
   "execution_count": 4,
   "id": "ab1ebf32-4d24-4d88-8b08-f78ff7290e15",
   "metadata": {},
   "outputs": [],
   "source": [
    "# define possible hyperparameters\n",
    "params = {'n_estimators': [10, 50, 100],\n",
    "          'bootstrap': [True, False],\n",
    "          'max_depth': [2, 5, 10],\n",
    "          'min_impurity_decrease': [0.0, 0.1, 0.2],\n",
    "          'min_samples_leaf': [1, 5, 10]}"
   ]
  },
  {
   "cell_type": "code",
   "execution_count": 5,
   "id": "087b0425-5f0b-4b42-a333-75e2cf27011f",
   "metadata": {},
   "outputs": [
    {
     "name": "stdout",
     "output_type": "stream",
     "text": [
      "{'bootstrap': False, 'max_depth': 10, 'min_impurity_decrease': 0.0, 'min_samples_leaf': 5, 'n_estimators': 50}\n"
     ]
    }
   ],
   "source": [
    "#Run GridSearchCV\n",
    "tuning_rf = GridSearchCV(estimator = model, param_grid = params, scoring = 'accuracy', cv = 5, n_jobs = -1)\n",
    "\n",
    "#fit model on training data to obtain best hyperparameters\n",
    "tuning_rf.fit(X_train, y_train)\n",
    "\n",
    "#obtain best hyperparameters\n",
    "print(tuning_rf.best_params_)\n",
    "\n",
    "#initialize tuned final model\n",
    "tuned_rf=tuning_rf.best_estimator_"
   ]
  },
  {
   "cell_type": "code",
   "execution_count": 6,
   "id": "d79b8b80-9494-4f30-a917-c9e1c993e8fd",
   "metadata": {},
   "outputs": [
    {
     "name": "stdout",
     "output_type": "stream",
     "text": [
      "Training Accuracy: 84.51521759159732 % Training Error: 15.48478240840268 %\n"
     ]
    }
   ],
   "source": [
    "#fit tuned model on training data\n",
    "tuned_rf.fit(X_train,y_train)\n",
    "\n",
    "#obtain training accuracy/error:\n",
    "train_pred=tuned_rf.predict(X_train)\n",
    "train_accuracy=accuracy_score(y_train, train_pred)\n",
    "\n",
    "print(\"Training Accuracy:\",train_accuracy*100, \"%\",\"Training Error:\",100-(train_accuracy*100),\"%\")"
   ]
  },
  {
   "cell_type": "code",
   "execution_count": 7,
   "id": "f5ffee5f-49da-4575-a7c5-c746ff01e816",
   "metadata": {},
   "outputs": [
    {
     "name": "stdout",
     "output_type": "stream",
     "text": [
      "Cross Vaidation Accuracy: 83.95014403247936 % Cross Validation Error: 16.049855967520642 %\n"
     ]
    }
   ],
   "source": [
    "#Run 5-fold Cross Validation on the model with best parameters and get the accuracy\n",
    "cross_val_accuracy=cross_val_score(tuned_rf,X_train,y_train,cv=5).mean()\n",
    "\n",
    "print(\"Cross Vaidation Accuracy:\",cross_val_accuracy*100,\"%\",\"Cross Validation Error:\" ,(100-(cross_val_accuracy*100)),\"%\")"
   ]
  },
  {
   "cell_type": "code",
   "execution_count": 8,
   "id": "75bb053b-d0a5-4812-836d-0c5092d2d4a2",
   "metadata": {},
   "outputs": [
    {
     "name": "stdout",
     "output_type": "stream",
     "text": [
      "Test Accuracy: 83.40396781524476 % Test Error: 16.596032184755245 %\n"
     ]
    }
   ],
   "source": [
    "# make predictions for test data\n",
    "y_pred = model.predict(X_test)\n",
    "\n",
    "# Obtain tessting accuracy/error:\n",
    "test_accuracy = accuracy_score(y_test, y_pred)\n",
    "\n",
    "print(\"Test Accuracy:\",test_accuracy*100,\"%\",\"Test Error:\",100-(test_accuracy*100),\"%\")"
   ]
  },
  {
   "cell_type": "code",
   "execution_count": 9,
   "id": "086d140f-9ea7-4a1c-ba09-6ef43bbd7f91",
   "metadata": {},
   "outputs": [
    {
     "name": "stdout",
     "output_type": "stream",
     "text": [
      "     bootstrap  max_depth  min_impurity_decrease  min_samples_leaf  \\\n",
      "0         True          2                    0.0                 1   \n",
      "1         True          2                    0.0                 1   \n",
      "2         True          2                    0.0                 1   \n",
      "3         True          2                    0.0                 5   \n",
      "4         True          2                    0.0                 5   \n",
      "..         ...        ...                    ...               ...   \n",
      "157      False         10                    0.2                 5   \n",
      "158      False         10                    0.2                 5   \n",
      "159      False         10                    0.2                10   \n",
      "160      False         10                    0.2                10   \n",
      "161      False         10                    0.2                10   \n",
      "\n",
      "     n_estimators  Accuracy  \n",
      "0              10  0.764595  \n",
      "1              50  0.764319  \n",
      "2             100  0.767636  \n",
      "3              10  0.765886  \n",
      "4              50  0.767022  \n",
      "..            ...       ...  \n",
      "157            50  0.759190  \n",
      "158           100  0.759190  \n",
      "159            10  0.759190  \n",
      "160            50  0.759190  \n",
      "161           100  0.759190  \n",
      "\n",
      "[162 rows x 6 columns]\n"
     ]
    }
   ],
   "source": [
    "#Accuracy of configuration of parameters\n",
    "accuracy_config_pd=pd.concat([pd.DataFrame(tuning_rf.cv_results_[\"params\"]),\n",
    "           pd.DataFrame(tuning_rf.cv_results_[\"mean_test_score\"], columns=[\"Accuracy\"])],axis=1)\n",
    "print(accuracy_config_pd)"
   ]
  },
  {
   "cell_type": "code",
   "execution_count": null,
   "id": "733f1e65",
   "metadata": {},
   "outputs": [],
   "source": []
  }
 ],
 "metadata": {
  "kernelspec": {
   "display_name": "Python 3 (ipykernel)",
   "language": "python",
   "name": "python3"
  },
  "language_info": {
   "codemirror_mode": {
    "name": "ipython",
    "version": 3
   },
   "file_extension": ".py",
   "mimetype": "text/x-python",
   "name": "python",
   "nbconvert_exporter": "python",
   "pygments_lexer": "ipython3",
   "version": "3.9.12"
  }
 },
 "nbformat": 4,
 "nbformat_minor": 5
}
