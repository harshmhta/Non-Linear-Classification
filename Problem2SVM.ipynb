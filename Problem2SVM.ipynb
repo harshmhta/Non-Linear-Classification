{
 "cells": [
  {
   "cell_type": "code",
   "execution_count": 1,
   "id": "e91e9732",
   "metadata": {},
   "outputs": [],
   "source": [
    "from sklearn.metrics import accuracy_score\n",
    "from sklearn.model_selection import cross_val_score\n",
    "from sklearn.model_selection import GridSearchCV\n",
    "from sklearn.datasets import load_svmlight_file\n",
    "from sklearn.svm import SVC\n",
    "import pandas as pd\n",
    "import numpy as np"
   ]
  },
  {
   "cell_type": "code",
   "execution_count": 2,
   "id": "7a947cbb-04cb-4ba3-85c8-5cccdad7229d",
   "metadata": {},
   "outputs": [],
   "source": [
    "# load data in LibSVM sparse data format\n",
    "X_train, y_train = load_svmlight_file(\"a9a.txt\")\n",
    "X_test,y_test = load_svmlight_file(\"a9a.t\")"
   ]
  },
  {
   "cell_type": "code",
   "execution_count": 3,
   "id": "d2fe0b1c-9564-4016-99b5-d90d51e311bb",
   "metadata": {},
   "outputs": [
    {
     "data": {
      "text/plain": [
       "SVC()"
      ]
     },
     "execution_count": 3,
     "metadata": {},
     "output_type": "execute_result"
    }
   ],
   "source": [
    "#create SVM model with default parameters (to use it in GridSearchCV)\n",
    "model = SVC(kernel='rbf')\n",
    "model.fit(X_train, y_train)\n",
    "#print(model.get_params())"
   ]
  },
  {
   "cell_type": "code",
   "execution_count": 5,
   "id": "ab1ebf32-4d24-4d88-8b08-f78ff7290e15",
   "metadata": {},
   "outputs": [],
   "source": [
    "#Set possible hyperparameters\n",
    "params = {'kernel': ['rbf'],\n",
    "          'gamma': [0.1, 1, 10],\n",
    "          'C': [0.1, 1, 10]}"
   ]
  },
  {
   "cell_type": "code",
   "execution_count": 6,
   "id": "087b0425-5f0b-4b42-a333-75e2cf27011f",
   "metadata": {},
   "outputs": [
    {
     "name": "stdout",
     "output_type": "stream",
     "text": [
      "{'C': 1, 'gamma': 0.1, 'kernel': 'rbf'}\n"
     ]
    }
   ],
   "source": [
    "#Run GridSearchCV\n",
    "tuning_svm = GridSearchCV(estimator = model, param_grid = params, scoring = 'accuracy', cv = 5, n_jobs = -1)\n",
    "\n",
    "#fit model on training data to obtain best hyperparameters\n",
    "tuning_svm.fit(X_train, y_train)\n",
    "\n",
    "#obtain best hyperparameters\n",
    "print(tuning_svm.best_params_)\n",
    "\n",
    "#initialize tuned final model\n",
    "tuned_svm=tuning_svm.best_estimator_"
   ]
  },
  {
   "cell_type": "code",
   "execution_count": 7,
   "id": "d79b8b80-9494-4f30-a917-c9e1c993e8fd",
   "metadata": {},
   "outputs": [
    {
     "name": "stdout",
     "output_type": "stream",
     "text": [
      "Training Accuracy: 86.41626485673044 % Training Error: 13.583735143269564 %\n"
     ]
    }
   ],
   "source": [
    "#fit tuned model on training data\n",
    "tuned_svm.fit(X_train,y_train)\n",
    "\n",
    "#obtain training accuracy/error:\n",
    "train_pred=tuned_svm.predict(X_train)\n",
    "train_accuracy=accuracy_score(y_train, train_pred)\n",
    "\n",
    "print(\"Training Accuracy:\",train_accuracy*100, \"%\",\"Training Error:\",100-(train_accuracy*100),\"%\")"
   ]
  },
  {
   "cell_type": "code",
   "execution_count": 8,
   "id": "f5ffee5f-49da-4575-a7c5-c746ff01e816",
   "metadata": {},
   "outputs": [
    {
     "name": "stdout",
     "output_type": "stream",
     "text": [
      "Cross Vaidation Accuracy: 84.65649640050836 % Cross Validation Error: 15.34350359949164 %\n"
     ]
    }
   ],
   "source": [
    "#Run 5-fold Cross Validation on the model with best parameters and get the accuracy\n",
    "\n",
    "cross_val_accuracy=cross_val_score(tuned_svm,X_train,y_train,cv=5).mean()\n",
    "print(\"Cross Vaidation Accuracy:\",cross_val_accuracy*100,\"%\",\"Cross Validation Error:\" ,(100-(cross_val_accuracy*100)),\"%\")"
   ]
  },
  {
   "cell_type": "code",
   "execution_count": 9,
   "id": "75bb053b-d0a5-4812-836d-0c5092d2d4a2",
   "metadata": {},
   "outputs": [
    {
     "name": "stdout",
     "output_type": "stream",
     "text": [
      "Test Accuracy: 85.05620047908606 % Test Error: 14.943799520913942 %\n"
     ]
    }
   ],
   "source": [
    "# make predictions for test data\n",
    "y_pred = model.predict(X_test)\n",
    "\n",
    "# Obtain tessting accuracy/error:\n",
    "test_accuracy = accuracy_score(y_test, y_pred)\n",
    "print(\"Test Accuracy:\",test_accuracy*100,\"%\",\"Test Error:\",100-(test_accuracy*100),\"%\")"
   ]
  },
  {
   "cell_type": "code",
   "execution_count": 10,
   "id": "086d140f-9ea7-4a1c-ba09-6ef43bbd7f91",
   "metadata": {},
   "outputs": [
    {
     "name": "stdout",
     "output_type": "stream",
     "text": [
      "      C  gamma kernel  Accuracy\n",
      "0   0.1    0.1    rbf  0.839133\n",
      "1   0.1    1.0    rbf  0.764319\n",
      "2   0.1   10.0    rbf  0.759190\n",
      "3   1.0    0.1    rbf  0.846565\n",
      "4   1.0    1.0    rbf  0.801296\n",
      "5   1.0   10.0    rbf  0.779276\n",
      "6  10.0    0.1    rbf  0.839133\n",
      "7  10.0    1.0    rbf  0.803661\n",
      "8  10.0   10.0    rbf  0.779276\n"
     ]
    }
   ],
   "source": [
    "#Accuracy of configuration of parameters\n",
    "accuracy_config_pd=pd.concat([pd.DataFrame(tuning_svm.cv_results_[\"params\"]),\n",
    "           pd.DataFrame(tuning_svm.cv_results_[\"mean_test_score\"], columns=[\"Accuracy\"])],axis=1)\n",
    "print(accuracy_config_pd)"
   ]
  },
  {
   "cell_type": "code",
   "execution_count": null,
   "id": "733f1e65",
   "metadata": {},
   "outputs": [],
   "source": []
  }
 ],
 "metadata": {
  "kernelspec": {
   "display_name": "Python 3 (ipykernel)",
   "language": "python",
   "name": "python3"
  },
  "language_info": {
   "codemirror_mode": {
    "name": "ipython",
    "version": 3
   },
   "file_extension": ".py",
   "mimetype": "text/x-python",
   "name": "python",
   "nbconvert_exporter": "python",
   "pygments_lexer": "ipython3",
   "version": "3.9.12"
  }
 },
 "nbformat": 4,
 "nbformat_minor": 5
}
